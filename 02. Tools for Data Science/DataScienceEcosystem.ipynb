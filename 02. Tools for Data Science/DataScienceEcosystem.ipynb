{
 "cells": [
  {
   "cell_type": "markdown",
   "id": "cc441ef1-0845-4e9b-bf28-80ed59818470",
   "metadata": {},
   "source": [
    "# Data Science Tools and Ecosystem"
   ]
  },
  {
   "cell_type": "markdown",
   "id": "c734b209-7d7b-47ad-a659-2ae26c4cf07b",
   "metadata": {},
   "source": [
    "### Intorduction:\n",
    "* In this notebook, Data Science Tools and Ecosystem are summarized. \n"
   ]
  },
  {
   "cell_type": "markdown",
   "id": "e31e32fe-959d-4ce5-8473-8b00e096b7a0",
   "metadata": {},
   "source": [
    "* **Objectives:**\n",
    "  - Discovering dara science languages and libraries\n",
    "  - Data science tools\n",
    "  - Some of the arithmetic expressions used in data science \n",
    "  "
   ]
  },
  {
   "cell_type": "markdown",
   "id": "47468dd6-fba0-4dda-adbb-300017c2c0f3",
   "metadata": {},
   "source": [
    "### List of data science languages: \n",
    "* Some of the popular languages that Data Scientists use are:"
   ]
  },
  {
   "cell_type": "markdown",
   "id": "935ce596-0e85-4e0c-9542-c32844b85506",
   "metadata": {},
   "source": [
    "1. Python\n",
    "2. R\n",
    "3. SQL\n",
    "4. Julia"
   ]
  },
  {
   "cell_type": "markdown",
   "id": "0959d0d1-08ed-4b69-a8eb-5fa9b302be35",
   "metadata": {},
   "source": [
    "### List of data science libraries :\n",
    "* some of the commonly used Data Science libraries are: "
   ]
  },
  {
   "cell_type": "markdown",
   "id": "8730feaf-6a26-4d42-96b5-2a47b35a037e",
   "metadata": {},
   "source": [
    "1. NumPy\n",
    "2. Pandas\n",
    "3. Seaborn\n",
    "4. Matplotlib\n",
    "5. SciPy\n",
    "6. Sickit-learn "
   ]
  },
  {
   "cell_type": "markdown",
   "id": "d0521e79-3cd9-41d3-bb2c-40c9c89c3daf",
   "metadata": {},
   "source": [
    "### Data science tools:"
   ]
  },
  {
   "cell_type": "markdown",
   "id": "290070df-e5a1-42da-a583-038149b9433f",
   "metadata": {},
   "source": [
    "| Data Science tools |\n",
    "| ------------------ |\n",
    "| Jupyter Notebook   |\n",
    "| Git & Github       | \n"
   ]
  },
  {
   "cell_type": "markdown",
   "id": "cc3fe3a6-aa0f-4bb3-a2b9-256746578d7d",
   "metadata": {},
   "source": [
    "### Arithmetic expression examples: "
   ]
  },
  {
   "cell_type": "markdown",
   "id": "802dccac-34e9-4d4a-aa5f-c8b6caa864b0",
   "metadata": {},
   "source": [
    "* Below are a few examples of evaluating arithmetic expressions in Python"
   ]
  },
  {
   "cell_type": "code",
   "execution_count": 1,
   "id": "0f37eb7f-fff6-4fe5-b072-8ac29cb72119",
   "metadata": {},
   "outputs": [
    {
     "data": {
      "text/plain": [
       "17"
      ]
     },
     "execution_count": 1,
     "metadata": {},
     "output_type": "execute_result"
    }
   ],
   "source": [
    "# This a simple arithmetic expression to mutiply then add integers\n",
    "(3*4)+5"
   ]
  },
  {
   "cell_type": "code",
   "execution_count": 2,
   "id": "5c6d641e-2b2a-4bc4-b51e-f3b3f4a853f0",
   "metadata": {},
   "outputs": [
    {
     "name": "stdout",
     "output_type": "stream",
     "text": [
      "3.3333333333333335\n"
     ]
    }
   ],
   "source": [
    "#This will convert 200 minutes to hours by diving by 60\n",
    "MtoH = 200/60\n",
    "print(MtoH)"
   ]
  },
  {
   "cell_type": "markdown",
   "id": "42da4f7e-d7be-4504-ae48-61eca0e4eb5b",
   "metadata": {},
   "source": [
    "------------------------------"
   ]
  },
  {
   "cell_type": "markdown",
   "id": "6e9323ff-5f98-4b2c-be92-3125842a8524",
   "metadata": {},
   "source": [
    "#### Author"
   ]
  },
  {
   "cell_type": "markdown",
   "id": "0203c98f-4b70-449d-97d0-104d825b685b",
   "metadata": {},
   "source": [
    "[amalelmahraoui](https://github.com/almasstudyjourney)"
   ]
  }
 ],
 "metadata": {
  "kernelspec": {
   "display_name": "Python 3 (ipykernel)",
   "language": "python",
   "name": "python3"
  },
  "language_info": {
   "codemirror_mode": {
    "name": "ipython",
    "version": 3
   },
   "file_extension": ".py",
   "mimetype": "text/x-python",
   "name": "python",
   "nbconvert_exporter": "python",
   "pygments_lexer": "ipython3",
   "version": "3.11.5"
  }
 },
 "nbformat": 4,
 "nbformat_minor": 5
}
